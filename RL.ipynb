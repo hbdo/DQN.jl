{
 "cells": [
  {
   "cell_type": "code",
   "execution_count": 1,
   "metadata": {},
   "outputs": [
    {
     "data": {
      "text/plain": [
       "sample_action (generic function with 1 method)"
      ]
     },
     "execution_count": 1,
     "metadata": {},
     "output_type": "execute_result"
    }
   ],
   "source": [
    "using PyCall\n",
    "using Knet\n",
    "using Images\n",
    "@pyimport gym\n",
    "\n",
    "env = gym.make(\"Asterix-v0\")\n",
    "\n",
    "function render(env)\n",
    "    return env[:render](mode=\"render_rgb\")\n",
    "end\n",
    "\n",
    "function step!(env, action)\n",
    "    return env[:step](action)\n",
    "end\n",
    "\n",
    "function reset!(env)\n",
    "    return env[:reset]()\n",
    "end\n",
    "\n",
    "function seed(env, seed_num)\n",
    "    env[:seed](seed_num)\n",
    "end\n",
    "\n",
    "function action_count(env)\n",
    "    return env[:action_space][:n]\n",
    "end\n",
    "\n",
    "function sample_action(env)\n",
    "    return env[:action_space][:sample]()\n",
    "end"
   ]
  },
  {
   "cell_type": "code",
   "execution_count": 2,
   "metadata": {},
   "outputs": [
    {
     "data": {
      "text/plain": [
       "preprocess_img (generic function with 1 method)"
      ]
     },
     "execution_count": 2,
     "metadata": {},
     "output_type": "execute_result"
    }
   ],
   "source": [
    "function preprocess_img(img;viewable = false)\n",
    "    out = img./255.0\n",
    "    out = Gray.(out)[:,:,1]\n",
    "    out = imresize(out, (110, 84))\n",
    "    out =  out[27:110,:,:]\n",
    "    out = reshape(out, (84,84))\n",
    "    if(!viewable)\n",
    "        out = Float64.(out)\n",
    "    end\n",
    "    return out\n",
    "end"
   ]
  },
  {
   "cell_type": "code",
   "execution_count": 3,
   "metadata": {},
   "outputs": [
    {
     "name": "stdout",
     "output_type": "stream",
     "text": [
      "210×160×3 Array{UInt8,3}\n"
     ]
    },
    {
     "data": {
      "text/plain": [
       "(UInt8[0x00 0x00 … 0x00 0x00; 0x00 0x00 … 0x00 0x00; … ; 0x00 0x00 … 0x00 0x00; 0x00 0x00 … 0x00 0x00]\n",
       "\n",
       "UInt8[0x00 0x00 … 0x00 0x00; 0x00 0x00 … 0x00 0x00; … ; 0x00 0x00 … 0x00 0x00; 0x00 0x00 … 0x00 0x00]\n",
       "\n",
       "UInt8[0x00 0x00 … 0x00 0x00; 0x00 0x00 … 0x00 0x00; … ; 0x00 0x00 … 0x00 0x00; 0x00 0x00 … 0x00 0x00], 0.0, false, Dict{Any,Any}(Pair{Any,Any}(\"ale.lives\", 3)))"
      ]
     },
     "execution_count": 3,
     "metadata": {},
     "output_type": "execute_result"
    }
   ],
   "source": [
    "state = reset!(env)\n",
    "println(summary(state))\n",
    "obs, reward, done, info = step!(env,sample_action(env))"
   ]
  },
  {
   "cell_type": "code",
   "execution_count": 4,
   "metadata": {},
   "outputs": [
    {
     "data": {
      "image/png": "[encoded data removed]",
      "text/plain": [
       "84×84 Array{Gray{Float64},2}:\n",
       " Gray{Float64}(0.0)  Gray{Float64}(0.0)  …  Gray{Float64}(0.0)\n",
       " Gray{Float64}(0.0)  Gray{Float64}(0.0)     Gray{Float64}(0.0)\n",
       " Gray{Float64}(0.0)  Gray{Float64}(0.0)     Gray{Float64}(0.0)\n",
       " Gray{Float64}(0.0)  Gray{Float64}(0.0)     Gray{Float64}(0.0)\n",
       " Gray{Float64}(0.0)  Gray{Float64}(0.0)     Gray{Float64}(0.0)\n",
       " Gray{Float64}(0.0)  Gray{Float64}(0.0)  …  Gray{Float64}(0.0)\n",
       " Gray{Float64}(0.0)  Gray{Float64}(0.0)     Gray{Float64}(0.0)\n",
       " Gray{Float64}(0.0)  Gray{Float64}(0.0)     Gray{Float64}(0.0)\n",
       " Gray{Float64}(0.0)  Gray{Float64}(0.0)     Gray{Float64}(0.0)\n",
       " Gray{Float64}(0.0)  Gray{Float64}(0.0)     Gray{Float64}(0.0)\n",
       " Gray{Float64}(0.0)  Gray{Float64}(0.0)  …  Gray{Float64}(0.0)\n",
       " Gray{Float64}(0.0)  Gray{Float64}(0.0)     Gray{Float64}(0.0)\n",
       " Gray{Float64}(0.0)  Gray{Float64}(0.0)     Gray{Float64}(0.0)\n",
       " ⋮                                       ⋱                    \n",
       " Gray{Float64}(0.0)  Gray{Float64}(0.0)     Gray{Float64}(0.0)\n",
       " Gray{Float64}(0.0)  Gray{Float64}(0.0)     Gray{Float64}(0.0)\n",
       " Gray{Float64}(0.0)  Gray{Float64}(0.0)     Gray{Float64}(0.0)\n",
       " Gray{Float64}(0.0)  Gray{Float64}(0.0)  …  Gray{Float64}(0.0)\n",
       " Gray{Float64}(0.0)  Gray{Float64}(0.0)     Gray{Float64}(0.0)\n",
       " Gray{Float64}(0.0)  Gray{Float64}(0.0)     Gray{Float64}(0.0)\n",
       " Gray{Float64}(0.0)  Gray{Float64}(0.0)     Gray{Float64}(0.0)\n",
       " Gray{Float64}(0.0)  Gray{Float64}(0.0)     Gray{Float64}(0.0)\n",
       " Gray{Float64}(0.0)  Gray{Float64}(0.0)  …  Gray{Float64}(0.0)\n",
       " Gray{Float64}(0.0)  Gray{Float64}(0.0)     Gray{Float64}(0.0)\n",
       " Gray{Float64}(0.0)  Gray{Float64}(0.0)     Gray{Float64}(0.0)\n",
       " Gray{Float64}(0.0)  Gray{Float64}(0.0)     Gray{Float64}(0.0)"
      ]
     },
     "execution_count": 4,
     "metadata": {},
     "output_type": "execute_result"
    }
   ],
   "source": [
    "test_img = preprocess_img(obs;viewable = true)"
   ]
  },
  {
   "cell_type": "code",
   "execution_count": 5,
   "metadata": {},
   "outputs": [
    {
     "name": "stdout",
     "output_type": "stream",
     "text": [
      "84×84 Array{Gray{Float64},2}\n"
     ]
    }
   ],
   "source": [
    "println(summary(test_img))"
   ]
  },
  {
   "cell_type": "code",
   "execution_count": 6,
   "metadata": {},
   "outputs": [
    {
     "data": {
      "text/plain": [
       "winit (generic function with 2 methods)"
      ]
     },
     "execution_count": 6,
     "metadata": {},
     "output_type": "execute_result"
    }
   ],
   "source": [
    "function winit(atype = Float32)\n",
    "    w = Any[]\n",
    "    push!(w, 0.1 * randn(atype,8,8,1,32))\n",
    "    push!(w, 0.1 * randn(atype,4,4,32,64))\n",
    "    push!(w, 0.1 * randn(atype,3,3,64,64))\n",
    "    push!(w, 0.1 * randn(atype,512,3136))\n",
    "    push!(w, 0.1 * zeros(atype,512,1))\n",
    "    push!(w, 0.1 * randn(atype,action_count(env),512))\n",
    "    push!(w, 0.1 * randn(atype,action_count(env),1))\n",
    "    return w\n",
    "end"
   ]
  },
  {
   "cell_type": "code",
   "execution_count": 7,
   "metadata": {},
   "outputs": [
    {
     "name": "stdout",
     "output_type": "stream",
     "text": [
      "8×8×1×32 Array{Float64,4}\n",
      "4×4×32×64 Array{Float64,4}\n",
      "3×3×64×64 Array{Float64,4}\n",
      "512×3136 Array{Float64,2}\n",
      "512×1 Array{Float64,2}\n",
      "9×512 Array{Float64,2}\n",
      "9×1 Array{Float64,2}\n"
     ]
    }
   ],
   "source": [
    "w = winit()\n",
    "for wi in w\n",
    "    println(summary(wi))\n",
    "end"
   ]
  },
  {
   "cell_type": "code",
   "execution_count": 8,
   "metadata": {},
   "outputs": [
    {
     "data": {
      "text/plain": [
       "model (generic function with 1 method)"
      ]
     },
     "execution_count": 8,
     "metadata": {},
     "output_type": "execute_result"
    }
   ],
   "source": [
    "function model(obs)\n",
    "    global w\n",
    "    input = preprocess_img(obs)\n",
    "    input = reshape(input, (84, 84, 1, 1))\n",
    "    output = conv4(w[1], input; stride=4)\n",
    "    output = relu.(output)\n",
    "    output = conv4(w[2], output; stride=2)\n",
    "    output = relu.(output)\n",
    "    output = conv4(w[3], output; stride=1)\n",
    "    output = relu.(output)\n",
    "    output = relu.(w[4] * mat(output) .+ w[5])\n",
    "    output = w[6] * mat(output) .+ w[7]\n",
    "    return output\n",
    "end"
   ]
  },
  {
   "cell_type": "code",
   "execution_count": 9,
   "metadata": {},
   "outputs": [
    {
     "data": {
      "text/plain": [
       "9×1 Array{Float64,2}:\n",
       " -0.272084 \n",
       "  0.456103 \n",
       " -0.878999 \n",
       " -0.335212 \n",
       " -0.0120074\n",
       " -0.214524 \n",
       "  1.68447  \n",
       "  0.0692988\n",
       " -0.603031 "
      ]
     },
     "execution_count": 9,
     "metadata": {},
     "output_type": "execute_result"
    }
   ],
   "source": [
    "result = model(obs)"
   ]
  },
  {
   "cell_type": "code",
   "execution_count": null,
   "metadata": {},
   "outputs": [],
   "source": []
  }
 ],
 "metadata": {
  "kernelspec": {
   "display_name": "Julia 0.6.1",
   "language": "julia",
   "name": "julia-0.6"
  },
  "language_info": {
   "file_extension": ".jl",
   "mimetype": "application/julia",
   "name": "julia",
   "version": "0.6.1"
  }
 },
 "nbformat": 4,
 "nbformat_minor": 2
}
